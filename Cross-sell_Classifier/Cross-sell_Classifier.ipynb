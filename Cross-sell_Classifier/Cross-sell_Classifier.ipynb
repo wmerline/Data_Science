{
 "cells": [
  {
   "attachments": {},
   "cell_type": "markdown",
   "metadata": {},
   "source": [
    "## Executive summary: This binary classifier model is used to identify bank customers who may be appropriate candidates for an upcoming marketing campaign to cross-sell Certificate of Deposit (CD) products\n",
    "- Note: this model is for educational purposes only and should be be relied up for making business or credit decisions\n",
    "- Author: Will Merline"
   ]
  },
  {
   "cell_type": "code",
   "execution_count": 7,
   "metadata": {},
   "outputs": [],
   "source": [
    "import pandas as pd\n",
    "import numpy as np\n",
    "from sklearn.impute import SimpleImputer\n",
    "from sklearn.model_selection import train_test_split\n",
    "import matplotlib.pyplot as plt"
   ]
  },
  {
   "cell_type": "code",
   "execution_count": 8,
   "metadata": {},
   "outputs": [
    {
     "data": {
      "text/html": [
       "<div>\n",
       "<style scoped>\n",
       "    .dataframe tbody tr th:only-of-type {\n",
       "        vertical-align: middle;\n",
       "    }\n",
       "\n",
       "    .dataframe tbody tr th {\n",
       "        vertical-align: top;\n",
       "    }\n",
       "\n",
       "    .dataframe thead th {\n",
       "        text-align: right;\n",
       "    }\n",
       "</style>\n",
       "<table border=\"1\" class=\"dataframe\">\n",
       "  <thead>\n",
       "    <tr style=\"text-align: right;\">\n",
       "      <th></th>\n",
       "      <th>age</th>\n",
       "      <th>job</th>\n",
       "      <th>marital</th>\n",
       "      <th>education</th>\n",
       "      <th>balance</th>\n",
       "      <th>housing</th>\n",
       "      <th>loan</th>\n",
       "      <th>y</th>\n",
       "    </tr>\n",
       "  </thead>\n",
       "  <tbody>\n",
       "    <tr>\n",
       "      <th>0</th>\n",
       "      <td>58</td>\n",
       "      <td>management</td>\n",
       "      <td>married</td>\n",
       "      <td>tertiary</td>\n",
       "      <td>2143</td>\n",
       "      <td>yes</td>\n",
       "      <td>no</td>\n",
       "      <td>no</td>\n",
       "    </tr>\n",
       "    <tr>\n",
       "      <th>1</th>\n",
       "      <td>44</td>\n",
       "      <td>technician</td>\n",
       "      <td>single</td>\n",
       "      <td>secondary</td>\n",
       "      <td>29</td>\n",
       "      <td>yes</td>\n",
       "      <td>no</td>\n",
       "      <td>no</td>\n",
       "    </tr>\n",
       "    <tr>\n",
       "      <th>2</th>\n",
       "      <td>33</td>\n",
       "      <td>entrepreneur</td>\n",
       "      <td>married</td>\n",
       "      <td>secondary</td>\n",
       "      <td>2</td>\n",
       "      <td>yes</td>\n",
       "      <td>yes</td>\n",
       "      <td>no</td>\n",
       "    </tr>\n",
       "    <tr>\n",
       "      <th>3</th>\n",
       "      <td>47</td>\n",
       "      <td>blue-collar</td>\n",
       "      <td>married</td>\n",
       "      <td>unknown</td>\n",
       "      <td>1506</td>\n",
       "      <td>yes</td>\n",
       "      <td>no</td>\n",
       "      <td>no</td>\n",
       "    </tr>\n",
       "    <tr>\n",
       "      <th>4</th>\n",
       "      <td>33</td>\n",
       "      <td>unknown</td>\n",
       "      <td>single</td>\n",
       "      <td>unknown</td>\n",
       "      <td>1</td>\n",
       "      <td>no</td>\n",
       "      <td>no</td>\n",
       "      <td>no</td>\n",
       "    </tr>\n",
       "  </tbody>\n",
       "</table>\n",
       "</div>"
      ],
      "text/plain": [
       "   age           job  marital  education  balance housing loan   y\n",
       "0   58    management  married   tertiary     2143     yes   no  no\n",
       "1   44    technician   single  secondary       29     yes   no  no\n",
       "2   33  entrepreneur  married  secondary        2     yes  yes  no\n",
       "3   47   blue-collar  married    unknown     1506     yes   no  no\n",
       "4   33       unknown   single    unknown        1      no   no  no"
      ]
     },
     "execution_count": 8,
     "metadata": {},
     "output_type": "execute_result"
    }
   ],
   "source": [
    "#1. import dataset:\n",
    "df = pd.read_csv('Data/Banking_Data.csv')\n",
    "df.head()"
   ]
  },
  {
   "cell_type": "code",
   "execution_count": 9,
   "metadata": {},
   "outputs": [
    {
     "data": {
      "text/html": [
       "<div>\n",
       "<style scoped>\n",
       "    .dataframe tbody tr th:only-of-type {\n",
       "        vertical-align: middle;\n",
       "    }\n",
       "\n",
       "    .dataframe tbody tr th {\n",
       "        vertical-align: top;\n",
       "    }\n",
       "\n",
       "    .dataframe thead th {\n",
       "        text-align: right;\n",
       "    }\n",
       "</style>\n",
       "<table border=\"1\" class=\"dataframe\">\n",
       "  <thead>\n",
       "    <tr style=\"text-align: right;\">\n",
       "      <th></th>\n",
       "      <th>age</th>\n",
       "      <th>job</th>\n",
       "      <th>marital</th>\n",
       "      <th>education</th>\n",
       "      <th>balance</th>\n",
       "      <th>housing</th>\n",
       "      <th>loan</th>\n",
       "      <th>y</th>\n",
       "    </tr>\n",
       "  </thead>\n",
       "  <tbody>\n",
       "    <tr>\n",
       "      <th>count</th>\n",
       "      <td>45211.00000</td>\n",
       "      <td>44900</td>\n",
       "      <td>45211</td>\n",
       "      <td>45211</td>\n",
       "      <td>45211.000000</td>\n",
       "      <td>45211</td>\n",
       "      <td>45211</td>\n",
       "      <td>45197</td>\n",
       "    </tr>\n",
       "    <tr>\n",
       "      <th>unique</th>\n",
       "      <td>NaN</td>\n",
       "      <td>12</td>\n",
       "      <td>3</td>\n",
       "      <td>4</td>\n",
       "      <td>NaN</td>\n",
       "      <td>2</td>\n",
       "      <td>2</td>\n",
       "      <td>2</td>\n",
       "    </tr>\n",
       "    <tr>\n",
       "      <th>top</th>\n",
       "      <td>NaN</td>\n",
       "      <td>blue-collar</td>\n",
       "      <td>married</td>\n",
       "      <td>secondary</td>\n",
       "      <td>NaN</td>\n",
       "      <td>yes</td>\n",
       "      <td>no</td>\n",
       "      <td>no</td>\n",
       "    </tr>\n",
       "    <tr>\n",
       "      <th>freq</th>\n",
       "      <td>NaN</td>\n",
       "      <td>9674</td>\n",
       "      <td>27214</td>\n",
       "      <td>23202</td>\n",
       "      <td>NaN</td>\n",
       "      <td>25130</td>\n",
       "      <td>37967</td>\n",
       "      <td>39909</td>\n",
       "    </tr>\n",
       "    <tr>\n",
       "      <th>mean</th>\n",
       "      <td>40.86417</td>\n",
       "      <td>NaN</td>\n",
       "      <td>NaN</td>\n",
       "      <td>NaN</td>\n",
       "      <td>1310.900290</td>\n",
       "      <td>NaN</td>\n",
       "      <td>NaN</td>\n",
       "      <td>NaN</td>\n",
       "    </tr>\n",
       "    <tr>\n",
       "      <th>std</th>\n",
       "      <td>10.75041</td>\n",
       "      <td>NaN</td>\n",
       "      <td>NaN</td>\n",
       "      <td>NaN</td>\n",
       "      <td>3806.997684</td>\n",
       "      <td>NaN</td>\n",
       "      <td>NaN</td>\n",
       "      <td>NaN</td>\n",
       "    </tr>\n",
       "    <tr>\n",
       "      <th>min</th>\n",
       "      <td>0.00000</td>\n",
       "      <td>NaN</td>\n",
       "      <td>NaN</td>\n",
       "      <td>NaN</td>\n",
       "      <td>-99999.000000</td>\n",
       "      <td>NaN</td>\n",
       "      <td>NaN</td>\n",
       "      <td>NaN</td>\n",
       "    </tr>\n",
       "    <tr>\n",
       "      <th>25%</th>\n",
       "      <td>33.00000</td>\n",
       "      <td>NaN</td>\n",
       "      <td>NaN</td>\n",
       "      <td>NaN</td>\n",
       "      <td>72.000000</td>\n",
       "      <td>NaN</td>\n",
       "      <td>NaN</td>\n",
       "      <td>NaN</td>\n",
       "    </tr>\n",
       "    <tr>\n",
       "      <th>50%</th>\n",
       "      <td>39.00000</td>\n",
       "      <td>NaN</td>\n",
       "      <td>NaN</td>\n",
       "      <td>NaN</td>\n",
       "      <td>448.000000</td>\n",
       "      <td>NaN</td>\n",
       "      <td>NaN</td>\n",
       "      <td>NaN</td>\n",
       "    </tr>\n",
       "    <tr>\n",
       "      <th>75%</th>\n",
       "      <td>48.00000</td>\n",
       "      <td>NaN</td>\n",
       "      <td>NaN</td>\n",
       "      <td>NaN</td>\n",
       "      <td>1426.500000</td>\n",
       "      <td>NaN</td>\n",
       "      <td>NaN</td>\n",
       "      <td>NaN</td>\n",
       "    </tr>\n",
       "    <tr>\n",
       "      <th>max</th>\n",
       "      <td>95.00000</td>\n",
       "      <td>NaN</td>\n",
       "      <td>NaN</td>\n",
       "      <td>NaN</td>\n",
       "      <td>102127.000000</td>\n",
       "      <td>NaN</td>\n",
       "      <td>NaN</td>\n",
       "      <td>NaN</td>\n",
       "    </tr>\n",
       "  </tbody>\n",
       "</table>\n",
       "</div>"
      ],
      "text/plain": [
       "                age          job  marital  education        balance housing  \\\n",
       "count   45211.00000        44900    45211      45211   45211.000000   45211   \n",
       "unique          NaN           12        3          4            NaN       2   \n",
       "top             NaN  blue-collar  married  secondary            NaN     yes   \n",
       "freq            NaN         9674    27214      23202            NaN   25130   \n",
       "mean       40.86417          NaN      NaN        NaN    1310.900290     NaN   \n",
       "std        10.75041          NaN      NaN        NaN    3806.997684     NaN   \n",
       "min         0.00000          NaN      NaN        NaN  -99999.000000     NaN   \n",
       "25%        33.00000          NaN      NaN        NaN      72.000000     NaN   \n",
       "50%        39.00000          NaN      NaN        NaN     448.000000     NaN   \n",
       "75%        48.00000          NaN      NaN        NaN    1426.500000     NaN   \n",
       "max        95.00000          NaN      NaN        NaN  102127.000000     NaN   \n",
       "\n",
       "         loan      y  \n",
       "count   45211  45197  \n",
       "unique      2      2  \n",
       "top        no     no  \n",
       "freq    37967  39909  \n",
       "mean      NaN    NaN  \n",
       "std       NaN    NaN  \n",
       "min       NaN    NaN  \n",
       "25%       NaN    NaN  \n",
       "50%       NaN    NaN  \n",
       "75%       NaN    NaN  \n",
       "max       NaN    NaN  "
      ]
     },
     "execution_count": 9,
     "metadata": {},
     "output_type": "execute_result"
    }
   ],
   "source": [
    "df.describe(include='all')"
   ]
  },
  {
   "cell_type": "code",
   "execution_count": 10,
   "metadata": {},
   "outputs": [
    {
     "data": {
      "text/plain": [
       "age          0.000000\n",
       "job          0.006879\n",
       "marital      0.000000\n",
       "education    0.000000\n",
       "balance      0.000000\n",
       "housing      0.000000\n",
       "loan         0.000000\n",
       "y            0.000310\n",
       "dtype: float64"
      ]
     },
     "execution_count": 10,
     "metadata": {},
     "output_type": "execute_result"
    }
   ],
   "source": [
    "#2. identify nulls in the data and remove or impute:\n",
    "df.isnull().sum()/len(df)"
   ]
  },
  {
   "attachments": {},
   "cell_type": "markdown",
   "metadata": {},
   "source": [
    "2. Target variable - missing target variables usually cannot be imputed (unless we are very confident about the value from prior knowledge or other reasoning from the dataset) because they determine how the model learns. For this exercise, I am dropping the small percentage of missing target values\n",
    "\n",
    "    Job - 'Job' variable also has a small percentage of missing values. Because this is a categorical variable, I could replace missing values with the most frequently appearing category. However, because we also have 'unknown' as a category, I am going to change missing job values to 'unknown'.\n"
   ]
  },
  {
   "cell_type": "code",
   "execution_count": 11,
   "metadata": {},
   "outputs": [],
   "source": [
    "#2.2 drop missing values for y (target variable)\n",
    "df2 = df.copy()\n",
    "df2.dropna(subset=['y'], inplace=True)"
   ]
  },
  {
   "cell_type": "code",
   "execution_count": 12,
   "metadata": {},
   "outputs": [],
   "source": [
    "#2.3 Imputation: change missing job values to 'unknown'\n",
    "df2['job'] = df['job'].fillna('unknown')"
   ]
  },
  {
   "cell_type": "code",
   "execution_count": 13,
   "metadata": {},
   "outputs": [
    {
     "data": {
      "text/plain": [
       "age          0.0\n",
       "job          0.0\n",
       "marital      0.0\n",
       "education    0.0\n",
       "balance      0.0\n",
       "housing      0.0\n",
       "loan         0.0\n",
       "y            0.0\n",
       "dtype: float64"
      ]
     },
     "execution_count": 13,
     "metadata": {},
     "output_type": "execute_result"
    }
   ],
   "source": [
    "#2.4 check the missing values were removed for y and job\n",
    "df2.isnull().sum()/len(df2)"
   ]
  },
  {
   "attachments": {},
   "cell_type": "markdown",
   "metadata": {},
   "source": [
    "3. To check for erroneous data, I took two approaches:\n",
    "    A. For all columns besides age, I printed the values counts to check for misspellings, strange values, etc.\n",
    "        - Education column has a small percentage (<5%) of values labeled 'unknown'. These values could potentially be imputed, but because I have no thesis about their true values based on the other education categories I am leaving them as 'unknown'\n",
    "\n",
    "    B. For age, I checked for negative values, values equal to zero, values below 16. I selected 16 as an arbitrary cutoff for a reasonable age to have a bank account.\n",
    "        - There are 81 values equal to zero. I assume these values are data errors, as someone zero years of age likely does not have a bank account, job, etc. I chose to impute these zeros using median age\n"
   ]
  },
  {
   "cell_type": "code",
   "execution_count": 14,
   "metadata": {},
   "outputs": [
    {
     "name": "stdout",
     "output_type": "stream",
     "text": [
      "Column job  values: blue-collar      9671\n",
      "management       9378\n",
      "technician       7549\n",
      "admin.           5132\n",
      "services         4123\n",
      "retired          2245\n",
      "self-employed    1566\n",
      "entrepreneur     1479\n",
      "unemployed       1292\n",
      "housemaid        1235\n",
      "student           933\n",
      "unknown           594\n",
      "Name: job, dtype: int64\n",
      "Column marital  values: married     27206\n",
      "single      12785\n",
      "divorced     5206\n",
      "Name: marital, dtype: int64\n",
      "Column education  values: secondary    23192\n",
      "tertiary     13299\n",
      "primary       6850\n",
      "unknown       1856\n",
      "Name: education, dtype: int64\n",
      "Column balance  values: 0        3513\n",
      "1         195\n",
      "2         155\n",
      "4         139\n",
      "3         134\n",
      "         ... \n",
      "4043        1\n",
      "6812        1\n",
      "10077       1\n",
      "11754       1\n",
      "16353       1\n",
      "Name: balance, Length: 7168, dtype: int64\n",
      "Column housing  values: yes    25120\n",
      "no     20077\n",
      "Name: housing, dtype: int64\n",
      "Column loan  values: no     37955\n",
      "yes     7242\n",
      "Name: loan, dtype: int64\n",
      "Column y  values: no     39909\n",
      "yes     5288\n",
      "Name: y, dtype: int64\n"
     ]
    }
   ],
   "source": [
    "#3. Identify any erroneous data:\n",
    "    # print values counts for each variable to check for data errors (misspelling, strange values, etc.):\n",
    "for col_name in df2.iloc[0: ,1:]:\n",
    "    print('Column', col_name,' values:' ,df2[col_name].value_counts())"
   ]
  },
  {
   "cell_type": "code",
   "execution_count": 15,
   "metadata": {},
   "outputs": [
    {
     "name": "stdout",
     "output_type": "stream",
     "text": [
      "Age values which are negative: 0\n",
      "Age values equal to zero: 81\n",
      "Age values greater than zero and less than 16: 0\n"
     ]
    }
   ],
   "source": [
    "#3.1 Detect data errors for column age by checking for zeros and negative numbers:\n",
    "print('Age values which are negative:',(df2['age'] <0).sum())\n",
    "print('Age values equal to zero:', (df2['age'] ==0).sum())\n",
    "print('Age values greater than zero and less than 16:', ((df2['age'] <16) & (df2['age'] >0)).sum())"
   ]
  },
  {
   "cell_type": "code",
   "execution_count": 16,
   "metadata": {},
   "outputs": [
    {
     "data": {
      "text/plain": [
       "39.0"
      ]
     },
     "execution_count": 16,
     "metadata": {},
     "output_type": "execute_result"
    }
   ],
   "source": [
    "#3.2 Check median value of age column\n",
    "df2['age'].median() "
   ]
  },
  {
   "cell_type": "code",
   "execution_count": 17,
   "metadata": {},
   "outputs": [],
   "source": [
    "#3.3 Imputation: replace zeros in age column with mean of age column \n",
    "df3 = df2.copy()\n",
    "df3['age'] = df3['age'].replace(0, df3['age'].median())"
   ]
  },
  {
   "cell_type": "code",
   "execution_count": 18,
   "metadata": {},
   "outputs": [
    {
     "name": "stdout",
     "output_type": "stream",
     "text": [
      "Age values which are negative: 0\n",
      "Age values equal to zero: 0\n",
      "Age values greater than zero and less than 16: 0\n"
     ]
    }
   ],
   "source": [
    "#3.3 Check age values after imputation\n",
    "print('Age values which are negative:',(df3['age'] <0).sum())\n",
    "print('Age values equal to zero:', (df3['age'] ==0).sum())\n",
    "print('Age values greater than zero and less than 16:', ((df3['age'] <16) & (df3['age'] >0)).sum())"
   ]
  },
  {
   "cell_type": "code",
   "execution_count": 19,
   "metadata": {},
   "outputs": [],
   "source": [
    "#4. Target variable (y):\n",
    "    # then split the data into train (80%) and test (20%) sets:\n",
    "X = df3.copy()\n",
    "y = X['y']\n",
    "X = X.drop(columns = 'y')\n",
    "\n",
    "X_train, X_test, y_train, y_test = train_test_split(X, y, test_size=0.2, random_state=4)\n"
   ]
  },
  {
   "cell_type": "code",
   "execution_count": 20,
   "metadata": {},
   "outputs": [
    {
     "data": {
      "text/html": [
       "<div>\n",
       "<style scoped>\n",
       "    .dataframe tbody tr th:only-of-type {\n",
       "        vertical-align: middle;\n",
       "    }\n",
       "\n",
       "    .dataframe tbody tr th {\n",
       "        vertical-align: top;\n",
       "    }\n",
       "\n",
       "    .dataframe thead th {\n",
       "        text-align: right;\n",
       "    }\n",
       "</style>\n",
       "<table border=\"1\" class=\"dataframe\">\n",
       "  <thead>\n",
       "    <tr style=\"text-align: right;\">\n",
       "      <th></th>\n",
       "      <th>age</th>\n",
       "      <th>job</th>\n",
       "      <th>marital</th>\n",
       "      <th>education</th>\n",
       "      <th>balance</th>\n",
       "      <th>housing</th>\n",
       "      <th>loan</th>\n",
       "    </tr>\n",
       "  </thead>\n",
       "  <tbody>\n",
       "    <tr>\n",
       "      <th>count</th>\n",
       "      <td>45197.000000</td>\n",
       "      <td>45197</td>\n",
       "      <td>45197</td>\n",
       "      <td>45197</td>\n",
       "      <td>45197.000000</td>\n",
       "      <td>45197</td>\n",
       "      <td>45197</td>\n",
       "    </tr>\n",
       "    <tr>\n",
       "      <th>unique</th>\n",
       "      <td>NaN</td>\n",
       "      <td>12</td>\n",
       "      <td>3</td>\n",
       "      <td>4</td>\n",
       "      <td>NaN</td>\n",
       "      <td>2</td>\n",
       "      <td>2</td>\n",
       "    </tr>\n",
       "    <tr>\n",
       "      <th>top</th>\n",
       "      <td>NaN</td>\n",
       "      <td>blue-collar</td>\n",
       "      <td>married</td>\n",
       "      <td>secondary</td>\n",
       "      <td>NaN</td>\n",
       "      <td>yes</td>\n",
       "      <td>no</td>\n",
       "    </tr>\n",
       "    <tr>\n",
       "      <th>freq</th>\n",
       "      <td>NaN</td>\n",
       "      <td>9671</td>\n",
       "      <td>27206</td>\n",
       "      <td>23192</td>\n",
       "      <td>NaN</td>\n",
       "      <td>25120</td>\n",
       "      <td>37955</td>\n",
       "    </tr>\n",
       "    <tr>\n",
       "      <th>mean</th>\n",
       "      <td>40.934664</td>\n",
       "      <td>NaN</td>\n",
       "      <td>NaN</td>\n",
       "      <td>NaN</td>\n",
       "      <td>1311.152997</td>\n",
       "      <td>NaN</td>\n",
       "      <td>NaN</td>\n",
       "    </tr>\n",
       "    <tr>\n",
       "      <th>std</th>\n",
       "      <td>10.610927</td>\n",
       "      <td>NaN</td>\n",
       "      <td>NaN</td>\n",
       "      <td>NaN</td>\n",
       "      <td>3807.483417</td>\n",
       "      <td>NaN</td>\n",
       "      <td>NaN</td>\n",
       "    </tr>\n",
       "    <tr>\n",
       "      <th>min</th>\n",
       "      <td>18.000000</td>\n",
       "      <td>NaN</td>\n",
       "      <td>NaN</td>\n",
       "      <td>NaN</td>\n",
       "      <td>-99999.000000</td>\n",
       "      <td>NaN</td>\n",
       "      <td>NaN</td>\n",
       "    </tr>\n",
       "    <tr>\n",
       "      <th>25%</th>\n",
       "      <td>33.000000</td>\n",
       "      <td>NaN</td>\n",
       "      <td>NaN</td>\n",
       "      <td>NaN</td>\n",
       "      <td>72.000000</td>\n",
       "      <td>NaN</td>\n",
       "      <td>NaN</td>\n",
       "    </tr>\n",
       "    <tr>\n",
       "      <th>50%</th>\n",
       "      <td>39.000000</td>\n",
       "      <td>NaN</td>\n",
       "      <td>NaN</td>\n",
       "      <td>NaN</td>\n",
       "      <td>448.000000</td>\n",
       "      <td>NaN</td>\n",
       "      <td>NaN</td>\n",
       "    </tr>\n",
       "    <tr>\n",
       "      <th>75%</th>\n",
       "      <td>48.000000</td>\n",
       "      <td>NaN</td>\n",
       "      <td>NaN</td>\n",
       "      <td>NaN</td>\n",
       "      <td>1427.000000</td>\n",
       "      <td>NaN</td>\n",
       "      <td>NaN</td>\n",
       "    </tr>\n",
       "    <tr>\n",
       "      <th>max</th>\n",
       "      <td>95.000000</td>\n",
       "      <td>NaN</td>\n",
       "      <td>NaN</td>\n",
       "      <td>NaN</td>\n",
       "      <td>102127.000000</td>\n",
       "      <td>NaN</td>\n",
       "      <td>NaN</td>\n",
       "    </tr>\n",
       "  </tbody>\n",
       "</table>\n",
       "</div>"
      ],
      "text/plain": [
       "                 age          job  marital  education        balance housing  \\\n",
       "count   45197.000000        45197    45197      45197   45197.000000   45197   \n",
       "unique           NaN           12        3          4            NaN       2   \n",
       "top              NaN  blue-collar  married  secondary            NaN     yes   \n",
       "freq             NaN         9671    27206      23192            NaN   25120   \n",
       "mean       40.934664          NaN      NaN        NaN    1311.152997     NaN   \n",
       "std        10.610927          NaN      NaN        NaN    3807.483417     NaN   \n",
       "min        18.000000          NaN      NaN        NaN  -99999.000000     NaN   \n",
       "25%        33.000000          NaN      NaN        NaN      72.000000     NaN   \n",
       "50%        39.000000          NaN      NaN        NaN     448.000000     NaN   \n",
       "75%        48.000000          NaN      NaN        NaN    1427.000000     NaN   \n",
       "max        95.000000          NaN      NaN        NaN  102127.000000     NaN   \n",
       "\n",
       "         loan  \n",
       "count   45197  \n",
       "unique      2  \n",
       "top        no  \n",
       "freq    37955  \n",
       "mean      NaN  \n",
       "std       NaN  \n",
       "min       NaN  \n",
       "25%       NaN  \n",
       "50%       NaN  \n",
       "75%       NaN  \n",
       "max       NaN  "
      ]
     },
     "execution_count": 20,
     "metadata": {},
     "output_type": "execute_result"
    }
   ],
   "source": [
    "#5. Exploratory data analysis of train data:\n",
    "X.describe(include='all')"
   ]
  },
  {
   "cell_type": "code",
   "execution_count": 21,
   "metadata": {},
   "outputs": [
    {
     "name": "stdout",
     "output_type": "stream",
     "text": [
      "<class 'pandas.core.frame.DataFrame'>\n",
      "Int64Index: 45197 entries, 0 to 45210\n",
      "Data columns (total 7 columns):\n",
      " #   Column     Non-Null Count  Dtype \n",
      "---  ------     --------------  ----- \n",
      " 0   age        45197 non-null  int64 \n",
      " 1   job        45197 non-null  object\n",
      " 2   marital    45197 non-null  object\n",
      " 3   education  45197 non-null  object\n",
      " 4   balance    45197 non-null  int64 \n",
      " 5   housing    45197 non-null  object\n",
      " 6   loan       45197 non-null  object\n",
      "dtypes: int64(2), object(5)\n",
      "memory usage: 2.8+ MB\n"
     ]
    }
   ],
   "source": [
    "#5.1 Exploratory data analysis of train data:\n",
    "X.info()"
   ]
  },
  {
   "cell_type": "code",
   "execution_count": 22,
   "metadata": {},
   "outputs": [
    {
     "data": {
      "text/html": [
       "<div>\n",
       "<style scoped>\n",
       "    .dataframe tbody tr th:only-of-type {\n",
       "        vertical-align: middle;\n",
       "    }\n",
       "\n",
       "    .dataframe tbody tr th {\n",
       "        vertical-align: top;\n",
       "    }\n",
       "\n",
       "    .dataframe thead th {\n",
       "        text-align: right;\n",
       "    }\n",
       "</style>\n",
       "<table border=\"1\" class=\"dataframe\">\n",
       "  <thead>\n",
       "    <tr style=\"text-align: right;\">\n",
       "      <th></th>\n",
       "      <th></th>\n",
       "      <th>Count</th>\n",
       "      <th>%</th>\n",
       "    </tr>\n",
       "    <tr>\n",
       "      <th>housing</th>\n",
       "      <th>loan</th>\n",
       "      <th></th>\n",
       "      <th></th>\n",
       "    </tr>\n",
       "  </thead>\n",
       "  <tbody>\n",
       "    <tr>\n",
       "      <th>yes</th>\n",
       "      <th>no</th>\n",
       "      <td>20754</td>\n",
       "      <td>45.9%</td>\n",
       "    </tr>\n",
       "    <tr>\n",
       "      <th>no</th>\n",
       "      <th>no</th>\n",
       "      <td>17201</td>\n",
       "      <td>38.1%</td>\n",
       "    </tr>\n",
       "    <tr>\n",
       "      <th>yes</th>\n",
       "      <th>yes</th>\n",
       "      <td>4366</td>\n",
       "      <td>9.7%</td>\n",
       "    </tr>\n",
       "    <tr>\n",
       "      <th>no</th>\n",
       "      <th>yes</th>\n",
       "      <td>2876</td>\n",
       "      <td>6.4%</td>\n",
       "    </tr>\n",
       "  </tbody>\n",
       "</table>\n",
       "</div>"
      ],
      "text/plain": [
       "              Count      %\n",
       "housing loan              \n",
       "yes     no    20754  45.9%\n",
       "no      no    17201  38.1%\n",
       "yes     yes    4366   9.7%\n",
       "no      yes    2876   6.4%"
      ]
     },
     "execution_count": 22,
     "metadata": {},
     "output_type": "execute_result"
    }
   ],
   "source": [
    "#5.2 Exploratory data analysis of train data: housing loans and personal loans:\n",
    "counts = X[['housing','loan']].value_counts()\n",
    "percs = X[['housing','loan']].value_counts(normalize=True).mul(100).round(1).astype(str) + '%'\n",
    "\n",
    "pd.concat([counts, percs], axis=1, keys=['Count','%'])"
   ]
  },
  {
   "cell_type": "code",
   "execution_count": 23,
   "metadata": {},
   "outputs": [
    {
     "data": {
      "text/plain": [
       "<matplotlib.collections.PathCollection at 0x1bce0a19270>"
      ]
     },
     "execution_count": 23,
     "metadata": {},
     "output_type": "execute_result"
    },
    {
     "data": {
      "image/png": "[encoded data removed]",
      "text/plain": [
       "<Figure size 640x480 with 1 Axes>"
      ]
     },
     "metadata": {},
     "output_type": "display_data"
    }
   ],
   "source": [
    "#5.3 Exploratory data analysis of train data:\n",
    "plt.scatter(X['loan'], X['balance'])"
   ]
  },
  {
   "attachments": {},
   "cell_type": "markdown",
   "metadata": {},
   "source": [
    "'5. Exploratory analysis - 46% of the customers in this dataset have a housing loan but not a personal loan with this bank. This group of existing customers could be candidates for cross-selling opportunities by offering personal loans with better rates, lower fees, etc. Further analysis could be performed to identify which of these customers carry credit card balances and offer these customers low interest rate personal loans to payoff higher interest rate credit card debt."
   ]
  },
  {
   "cell_type": "code",
   "execution_count": 24,
   "metadata": {},
   "outputs": [],
   "source": [
    "#6 Dummy coding the categorical variables:\n",
    "cat_vars = ['job', 'marital', 'education', 'housing', 'loan']\n",
    "num_vars = ['age', 'balance']\n"
   ]
  },
  {
   "cell_type": "code",
   "execution_count": 25,
   "metadata": {},
   "outputs": [
    {
     "name": "stdout",
     "output_type": "stream",
     "text": [
      "job - base / zero category is: admin.\n",
      "marital - base / zero category is: divorced\n",
      "education - base / zero category is: primary\n",
      "housing - base / zero category is: no\n",
      "loan - base / zero category is: no\n"
     ]
    }
   ],
   "source": [
    "#6.1 arrange unique categories in alphabetical order to determine and check which categories will:\n",
    "  # value to be dropped in dummy coding:\n",
    "for dummy_col in cat_vars:\n",
    "  i = np.unique(np.array([X_train[dummy_col]]))\n",
    "  print(dummy_col, \"- base / zero category is:\", i[0])"
   ]
  },
  {
   "cell_type": "code",
   "execution_count": 26,
   "metadata": {},
   "outputs": [],
   "source": [
    "#6.2 Dummy coding the categorical variables:\n",
    "X_train_dummied = pd.get_dummies(X_train, columns=cat_vars, drop_first=True)\n",
    "X_test_dummied = pd.get_dummies(X_test, columns=cat_vars, drop_first=True)"
   ]
  },
  {
   "cell_type": "code",
   "execution_count": 27,
   "metadata": {},
   "outputs": [
    {
     "data": {
      "text/html": [
       "<div>\n",
       "<style scoped>\n",
       "    .dataframe tbody tr th:only-of-type {\n",
       "        vertical-align: middle;\n",
       "    }\n",
       "\n",
       "    .dataframe tbody tr th {\n",
       "        vertical-align: top;\n",
       "    }\n",
       "\n",
       "    .dataframe thead th {\n",
       "        text-align: right;\n",
       "    }\n",
       "</style>\n",
       "<table border=\"1\" class=\"dataframe\">\n",
       "  <thead>\n",
       "    <tr style=\"text-align: right;\">\n",
       "      <th></th>\n",
       "      <th>38766</th>\n",
       "      <th>36700</th>\n",
       "      <th>10665</th>\n",
       "      <th>13723</th>\n",
       "      <th>8301</th>\n",
       "    </tr>\n",
       "  </thead>\n",
       "  <tbody>\n",
       "    <tr>\n",
       "      <th>age</th>\n",
       "      <td>35</td>\n",
       "      <td>51</td>\n",
       "      <td>57</td>\n",
       "      <td>47</td>\n",
       "      <td>34</td>\n",
       "    </tr>\n",
       "    <tr>\n",
       "      <th>balance</th>\n",
       "      <td>13</td>\n",
       "      <td>480</td>\n",
       "      <td>145</td>\n",
       "      <td>184</td>\n",
       "      <td>1090</td>\n",
       "    </tr>\n",
       "    <tr>\n",
       "      <th>job_blue-collar</th>\n",
       "      <td>0</td>\n",
       "      <td>1</td>\n",
       "      <td>0</td>\n",
       "      <td>0</td>\n",
       "      <td>1</td>\n",
       "    </tr>\n",
       "    <tr>\n",
       "      <th>job_entrepreneur</th>\n",
       "      <td>0</td>\n",
       "      <td>0</td>\n",
       "      <td>0</td>\n",
       "      <td>0</td>\n",
       "      <td>0</td>\n",
       "    </tr>\n",
       "    <tr>\n",
       "      <th>job_housemaid</th>\n",
       "      <td>0</td>\n",
       "      <td>0</td>\n",
       "      <td>0</td>\n",
       "      <td>0</td>\n",
       "      <td>0</td>\n",
       "    </tr>\n",
       "    <tr>\n",
       "      <th>job_management</th>\n",
       "      <td>1</td>\n",
       "      <td>0</td>\n",
       "      <td>0</td>\n",
       "      <td>1</td>\n",
       "      <td>0</td>\n",
       "    </tr>\n",
       "    <tr>\n",
       "      <th>job_retired</th>\n",
       "      <td>0</td>\n",
       "      <td>0</td>\n",
       "      <td>0</td>\n",
       "      <td>0</td>\n",
       "      <td>0</td>\n",
       "    </tr>\n",
       "    <tr>\n",
       "      <th>job_self-employed</th>\n",
       "      <td>0</td>\n",
       "      <td>0</td>\n",
       "      <td>0</td>\n",
       "      <td>0</td>\n",
       "      <td>0</td>\n",
       "    </tr>\n",
       "    <tr>\n",
       "      <th>job_services</th>\n",
       "      <td>0</td>\n",
       "      <td>0</td>\n",
       "      <td>0</td>\n",
       "      <td>0</td>\n",
       "      <td>0</td>\n",
       "    </tr>\n",
       "    <tr>\n",
       "      <th>job_student</th>\n",
       "      <td>0</td>\n",
       "      <td>0</td>\n",
       "      <td>0</td>\n",
       "      <td>0</td>\n",
       "      <td>0</td>\n",
       "    </tr>\n",
       "    <tr>\n",
       "      <th>job_technician</th>\n",
       "      <td>0</td>\n",
       "      <td>0</td>\n",
       "      <td>1</td>\n",
       "      <td>0</td>\n",
       "      <td>0</td>\n",
       "    </tr>\n",
       "    <tr>\n",
       "      <th>job_unemployed</th>\n",
       "      <td>0</td>\n",
       "      <td>0</td>\n",
       "      <td>0</td>\n",
       "      <td>0</td>\n",
       "      <td>0</td>\n",
       "    </tr>\n",
       "    <tr>\n",
       "      <th>job_unknown</th>\n",
       "      <td>0</td>\n",
       "      <td>0</td>\n",
       "      <td>0</td>\n",
       "      <td>0</td>\n",
       "      <td>0</td>\n",
       "    </tr>\n",
       "    <tr>\n",
       "      <th>marital_married</th>\n",
       "      <td>0</td>\n",
       "      <td>1</td>\n",
       "      <td>0</td>\n",
       "      <td>0</td>\n",
       "      <td>1</td>\n",
       "    </tr>\n",
       "    <tr>\n",
       "      <th>marital_single</th>\n",
       "      <td>1</td>\n",
       "      <td>0</td>\n",
       "      <td>0</td>\n",
       "      <td>0</td>\n",
       "      <td>0</td>\n",
       "    </tr>\n",
       "    <tr>\n",
       "      <th>education_secondary</th>\n",
       "      <td>0</td>\n",
       "      <td>0</td>\n",
       "      <td>1</td>\n",
       "      <td>0</td>\n",
       "      <td>0</td>\n",
       "    </tr>\n",
       "    <tr>\n",
       "      <th>education_tertiary</th>\n",
       "      <td>1</td>\n",
       "      <td>0</td>\n",
       "      <td>0</td>\n",
       "      <td>0</td>\n",
       "      <td>0</td>\n",
       "    </tr>\n",
       "    <tr>\n",
       "      <th>education_unknown</th>\n",
       "      <td>0</td>\n",
       "      <td>0</td>\n",
       "      <td>0</td>\n",
       "      <td>1</td>\n",
       "      <td>0</td>\n",
       "    </tr>\n",
       "    <tr>\n",
       "      <th>housing_yes</th>\n",
       "      <td>1</td>\n",
       "      <td>1</td>\n",
       "      <td>0</td>\n",
       "      <td>1</td>\n",
       "      <td>1</td>\n",
       "    </tr>\n",
       "    <tr>\n",
       "      <th>loan_yes</th>\n",
       "      <td>0</td>\n",
       "      <td>0</td>\n",
       "      <td>1</td>\n",
       "      <td>0</td>\n",
       "      <td>0</td>\n",
       "    </tr>\n",
       "  </tbody>\n",
       "</table>\n",
       "</div>"
      ],
      "text/plain": [
       "                     38766  36700  10665  13723  8301 \n",
       "age                     35     51     57     47     34\n",
       "balance                 13    480    145    184   1090\n",
       "job_blue-collar          0      1      0      0      1\n",
       "job_entrepreneur         0      0      0      0      0\n",
       "job_housemaid            0      0      0      0      0\n",
       "job_management           1      0      0      1      0\n",
       "job_retired              0      0      0      0      0\n",
       "job_self-employed        0      0      0      0      0\n",
       "job_services             0      0      0      0      0\n",
       "job_student              0      0      0      0      0\n",
       "job_technician           0      0      1      0      0\n",
       "job_unemployed           0      0      0      0      0\n",
       "job_unknown              0      0      0      0      0\n",
       "marital_married          0      1      0      0      1\n",
       "marital_single           1      0      0      0      0\n",
       "education_secondary      0      0      1      0      0\n",
       "education_tertiary       1      0      0      0      0\n",
       "education_unknown        0      0      0      1      0\n",
       "housing_yes              1      1      0      1      1\n",
       "loan_yes                 0      0      1      0      0"
      ]
     },
     "execution_count": 27,
     "metadata": {},
     "output_type": "execute_result"
    }
   ],
   "source": [
    "#6.3 Check train data after dummy coding the categorical variables:\n",
    "X_train_dummied.head().transpose()"
   ]
  },
  {
   "cell_type": "code",
   "execution_count": 28,
   "metadata": {},
   "outputs": [
    {
     "data": {
      "text/html": [
       "<div>\n",
       "<style scoped>\n",
       "    .dataframe tbody tr th:only-of-type {\n",
       "        vertical-align: middle;\n",
       "    }\n",
       "\n",
       "    .dataframe tbody tr th {\n",
       "        vertical-align: top;\n",
       "    }\n",
       "\n",
       "    .dataframe thead th {\n",
       "        text-align: right;\n",
       "    }\n",
       "</style>\n",
       "<table border=\"1\" class=\"dataframe\">\n",
       "  <thead>\n",
       "    <tr style=\"text-align: right;\">\n",
       "      <th></th>\n",
       "      <th>36195</th>\n",
       "      <th>31628</th>\n",
       "      <th>10517</th>\n",
       "      <th>33990</th>\n",
       "      <th>4103</th>\n",
       "    </tr>\n",
       "  </thead>\n",
       "  <tbody>\n",
       "    <tr>\n",
       "      <th>age</th>\n",
       "      <td>55</td>\n",
       "      <td>26</td>\n",
       "      <td>47</td>\n",
       "      <td>30</td>\n",
       "      <td>43</td>\n",
       "    </tr>\n",
       "    <tr>\n",
       "      <th>balance</th>\n",
       "      <td>2059</td>\n",
       "      <td>1804</td>\n",
       "      <td>7</td>\n",
       "      <td>1185</td>\n",
       "      <td>445</td>\n",
       "    </tr>\n",
       "    <tr>\n",
       "      <th>job_blue-collar</th>\n",
       "      <td>1</td>\n",
       "      <td>0</td>\n",
       "      <td>1</td>\n",
       "      <td>0</td>\n",
       "      <td>0</td>\n",
       "    </tr>\n",
       "    <tr>\n",
       "      <th>job_entrepreneur</th>\n",
       "      <td>0</td>\n",
       "      <td>0</td>\n",
       "      <td>0</td>\n",
       "      <td>0</td>\n",
       "      <td>0</td>\n",
       "    </tr>\n",
       "    <tr>\n",
       "      <th>job_housemaid</th>\n",
       "      <td>0</td>\n",
       "      <td>0</td>\n",
       "      <td>0</td>\n",
       "      <td>0</td>\n",
       "      <td>0</td>\n",
       "    </tr>\n",
       "    <tr>\n",
       "      <th>job_management</th>\n",
       "      <td>0</td>\n",
       "      <td>0</td>\n",
       "      <td>0</td>\n",
       "      <td>0</td>\n",
       "      <td>0</td>\n",
       "    </tr>\n",
       "    <tr>\n",
       "      <th>job_retired</th>\n",
       "      <td>0</td>\n",
       "      <td>0</td>\n",
       "      <td>0</td>\n",
       "      <td>0</td>\n",
       "      <td>0</td>\n",
       "    </tr>\n",
       "    <tr>\n",
       "      <th>job_self-employed</th>\n",
       "      <td>0</td>\n",
       "      <td>0</td>\n",
       "      <td>0</td>\n",
       "      <td>0</td>\n",
       "      <td>0</td>\n",
       "    </tr>\n",
       "    <tr>\n",
       "      <th>job_services</th>\n",
       "      <td>0</td>\n",
       "      <td>0</td>\n",
       "      <td>0</td>\n",
       "      <td>0</td>\n",
       "      <td>0</td>\n",
       "    </tr>\n",
       "    <tr>\n",
       "      <th>job_student</th>\n",
       "      <td>0</td>\n",
       "      <td>1</td>\n",
       "      <td>0</td>\n",
       "      <td>0</td>\n",
       "      <td>0</td>\n",
       "    </tr>\n",
       "    <tr>\n",
       "      <th>job_technician</th>\n",
       "      <td>0</td>\n",
       "      <td>0</td>\n",
       "      <td>0</td>\n",
       "      <td>1</td>\n",
       "      <td>0</td>\n",
       "    </tr>\n",
       "    <tr>\n",
       "      <th>job_unemployed</th>\n",
       "      <td>0</td>\n",
       "      <td>0</td>\n",
       "      <td>0</td>\n",
       "      <td>0</td>\n",
       "      <td>0</td>\n",
       "    </tr>\n",
       "    <tr>\n",
       "      <th>job_unknown</th>\n",
       "      <td>0</td>\n",
       "      <td>0</td>\n",
       "      <td>0</td>\n",
       "      <td>0</td>\n",
       "      <td>0</td>\n",
       "    </tr>\n",
       "    <tr>\n",
       "      <th>marital_married</th>\n",
       "      <td>1</td>\n",
       "      <td>0</td>\n",
       "      <td>0</td>\n",
       "      <td>0</td>\n",
       "      <td>0</td>\n",
       "    </tr>\n",
       "    <tr>\n",
       "      <th>marital_single</th>\n",
       "      <td>0</td>\n",
       "      <td>1</td>\n",
       "      <td>0</td>\n",
       "      <td>1</td>\n",
       "      <td>1</td>\n",
       "    </tr>\n",
       "    <tr>\n",
       "      <th>education_secondary</th>\n",
       "      <td>1</td>\n",
       "      <td>0</td>\n",
       "      <td>0</td>\n",
       "      <td>0</td>\n",
       "      <td>1</td>\n",
       "    </tr>\n",
       "    <tr>\n",
       "      <th>education_tertiary</th>\n",
       "      <td>0</td>\n",
       "      <td>1</td>\n",
       "      <td>0</td>\n",
       "      <td>1</td>\n",
       "      <td>0</td>\n",
       "    </tr>\n",
       "    <tr>\n",
       "      <th>education_unknown</th>\n",
       "      <td>0</td>\n",
       "      <td>0</td>\n",
       "      <td>0</td>\n",
       "      <td>0</td>\n",
       "      <td>0</td>\n",
       "    </tr>\n",
       "    <tr>\n",
       "      <th>housing_yes</th>\n",
       "      <td>1</td>\n",
       "      <td>0</td>\n",
       "      <td>0</td>\n",
       "      <td>1</td>\n",
       "      <td>1</td>\n",
       "    </tr>\n",
       "    <tr>\n",
       "      <th>loan_yes</th>\n",
       "      <td>0</td>\n",
       "      <td>0</td>\n",
       "      <td>1</td>\n",
       "      <td>0</td>\n",
       "      <td>0</td>\n",
       "    </tr>\n",
       "  </tbody>\n",
       "</table>\n",
       "</div>"
      ],
      "text/plain": [
       "                     36195  31628  10517  33990  4103 \n",
       "age                     55     26     47     30     43\n",
       "balance               2059   1804      7   1185    445\n",
       "job_blue-collar          1      0      1      0      0\n",
       "job_entrepreneur         0      0      0      0      0\n",
       "job_housemaid            0      0      0      0      0\n",
       "job_management           0      0      0      0      0\n",
       "job_retired              0      0      0      0      0\n",
       "job_self-employed        0      0      0      0      0\n",
       "job_services             0      0      0      0      0\n",
       "job_student              0      1      0      0      0\n",
       "job_technician           0      0      0      1      0\n",
       "job_unemployed           0      0      0      0      0\n",
       "job_unknown              0      0      0      0      0\n",
       "marital_married          1      0      0      0      0\n",
       "marital_single           0      1      0      1      1\n",
       "education_secondary      1      0      0      0      1\n",
       "education_tertiary       0      1      0      1      0\n",
       "education_unknown        0      0      0      0      0\n",
       "housing_yes              1      0      0      1      1\n",
       "loan_yes                 0      0      1      0      0"
      ]
     },
     "execution_count": 28,
     "metadata": {},
     "output_type": "execute_result"
    }
   ],
   "source": [
    "#6.3 Check test data after dummy coding the categorical variables:\n",
    "X_test_dummied.head().transpose()"
   ]
  },
  {
   "cell_type": "code",
   "execution_count": 29,
   "metadata": {},
   "outputs": [],
   "source": [
    "#7. Encode the target column (y) as 0 (no) and 1 (yes):\n",
    "y_train_numeric = y_train.replace({'no': 0, 'yes': 1})\n",
    "y_test_numeric = y_test.replace({'no': 0, 'yes': 1})"
   ]
  },
  {
   "cell_type": "code",
   "execution_count": 30,
   "metadata": {},
   "outputs": [
    {
     "name": "stdout",
     "output_type": "stream",
     "text": [
      "38766    0\n",
      "36700    0\n",
      "10665    0\n",
      "13723    0\n",
      "8301     0\n",
      "Name: y, dtype: int64\n",
      "36195    0\n",
      "31628    0\n",
      "10517    0\n",
      "33990    0\n",
      "4103     0\n",
      "Name: y, dtype: int64\n"
     ]
    }
   ],
   "source": [
    "#7.1 Check target:\n",
    "print(y_train_numeric.head())\n",
    "print(y_test_numeric.head())"
   ]
  },
  {
   "cell_type": "code",
   "execution_count": 31,
   "metadata": {},
   "outputs": [
    {
     "name": "stdout",
     "output_type": "stream",
     "text": [
      "   y_train - Count y_train - %\n",
      "0            31916       88.3%\n",
      "1             4241       11.7%\n",
      "   y_test - Count y_test - %\n",
      "0            7993      88.4%\n",
      "1            1047      11.6%\n"
     ]
    }
   ],
   "source": [
    "#8. Calculate the prevalence (class balance) of the target:\n",
    "y_train_counts = y_train_numeric.value_counts()\n",
    "y_train_percs = y_train_numeric.value_counts(normalize=True).mul(100).round(1).astype(str) + '%'\n",
    "\n",
    "y_test_counts = y_test_numeric.value_counts()\n",
    "y_test_percs = y_test_numeric.value_counts(normalize=True).mul(100).round(1).astype(str) + '%'\n",
    "\n",
    "print(pd.concat([y_train_counts, y_train_percs], axis=1, keys=['y_train - Count','y_train - %']))\n",
    "print(pd.concat([y_test_counts, y_test_percs], axis=1, keys=['y_test - Count','y_test - %']))"
   ]
  },
  {
   "attachments": {},
   "cell_type": "markdown",
   "metadata": {},
   "source": [
    "8. Train and test datasets have a very similar class balance of the target variable"
   ]
  },
  {
   "cell_type": "code",
   "execution_count": 32,
   "metadata": {},
   "outputs": [],
   "source": [
    "#9. Logistic regression model on the training set:\n",
    "from sklearn.linear_model import LogisticRegression\n",
    "log_reg = LogisticRegression(random_state=4)"
   ]
  },
  {
   "cell_type": "code",
   "execution_count": 33,
   "metadata": {},
   "outputs": [
    {
     "data": {
      "text/plain": [
       "LogisticRegression(random_state=4)"
      ]
     },
     "execution_count": 33,
     "metadata": {},
     "output_type": "execute_result"
    }
   ],
   "source": [
    "#9.1 Get coefficients:\n",
    "log_reg.fit(X_train_dummied, y_train_numeric)\n"
   ]
  },
  {
   "cell_type": "code",
   "execution_count": 34,
   "metadata": {},
   "outputs": [
    {
     "name": "stdout",
     "output_type": "stream",
     "text": [
      "[[0.96231199 0.03768801]\n",
      " [0.70579087 0.29420913]\n",
      " [0.86170415 0.13829585]\n",
      " ...\n",
      " [0.87326936 0.12673064]\n",
      " [0.83321175 0.16678825]\n",
      " [0.79242735 0.20757265]]\n"
     ]
    }
   ],
   "source": [
    "#10. Probability predictions:\n",
    "preds = log_reg.predict_proba(X_test_dummied)\n",
    "print(preds)"
   ]
  },
  {
   "cell_type": "code",
   "execution_count": 35,
   "metadata": {},
   "outputs": [
    {
     "data": {
      "text/plain": [
       "0.6444807066737358"
      ]
     },
     "execution_count": 35,
     "metadata": {},
     "output_type": "execute_result"
    }
   ],
   "source": [
    "#11. Calculate the area under the ROC curve of your predictions on the test set:\n",
    "from sklearn.metrics import roc_auc_score, confusion_matrix, RocCurveDisplay, ConfusionMatrixDisplay, roc_curve\n",
    "\n",
    "roc_auc_score(y_test_numeric, preds[:,1])"
   ]
  },
  {
   "cell_type": "code",
   "execution_count": 36,
   "metadata": {},
   "outputs": [
    {
     "data": {
      "image/png": "[encoded data removed]",
      "text/plain": [
       "<Figure size 640x480 with 1 Axes>"
      ]
     },
     "metadata": {},
     "output_type": "display_data"
    },
    {
     "data": {
      "text/plain": [
       "<Figure size 10000x5000 with 0 Axes>"
      ]
     },
     "metadata": {},
     "output_type": "display_data"
    }
   ],
   "source": [
    "#11.1 Plot ROC curve:\n",
    "from scipy.ndimage import label\n",
    "from matplotlib.pyplot import Figure\n",
    "RocCurveDisplay.from_predictions(\n",
    "    y_test_numeric, \n",
    "    preds[:,1],\n",
    "    name='ROC Curve',\n",
    "    color=\"darkblue\",\n",
    ")\n",
    "plt.plot([0, 1], [0, 1], \"k--\", label=\"chance level (AUC = 0.5)\")\n",
    "plt.axis(\"auto\")\n",
    "plt.xlabel(\"False Positive Rate\", fontweight = \"bold\")\n",
    "plt.ylabel(\"True Positive Rate\", fontweight = \"bold\")\n",
    "plt.title(\"Logistic Regression ROC Curve\", fontweight = \"bold\")\n",
    "plt.legend()\n",
    "plt.figure(figsize=(100,50))\n",
    "plt.show()"
   ]
  },
  {
   "cell_type": "code",
   "execution_count": 37,
   "metadata": {},
   "outputs": [],
   "source": [
    "#12. Decision threshold:\n",
    "t = 0.10"
   ]
  },
  {
   "attachments": {},
   "cell_type": "markdown",
   "metadata": {},
   "source": [
    "12. I have selected a decision threshold of .10. This low threshold can be justified for two reasons:\n",
    "    (1) The train and test data for the target (y) are both heavily skewed towards 0 (no). See step 8 above for breakdown\n",
    "    (2) The \"costs\" of a false positive include employee time to make phone calls to potential customers and the potential risk of annoying customers with sales calls. The \"costs\" of false negative include lost revenue opportunities. Assuming the lost revenue cost more than the false positives, it is better to have a lower threshold for this scenario"
   ]
  },
  {
   "cell_type": "code",
   "execution_count": 39,
   "metadata": {},
   "outputs": [
    {
     "name": "stdout",
     "output_type": "stream",
     "text": [
      "[[3942 4051]\n",
      " [ 289  758]]\n",
      "False positive rate = 0.507\n",
      "True positive rate = 0.724\n",
      "Difference = 0.217\n"
     ]
    },
    {
     "data": {
      "image/png": "[encoded data removed]",
      "text/plain": [
       "<Figure size 640x480 with 2 Axes>"
      ]
     },
     "metadata": {},
     "output_type": "display_data"
    }
   ],
   "source": [
    "#13. Confusion matrix:\n",
    "cm = confusion_matrix(y_test_numeric, pd.Series([1 if x > t else 0 for x in preds[:,1]]))\n",
    "\n",
    "cm_display = ConfusionMatrixDisplay(confusion_matrix=cm)\n",
    "\n",
    "TN = cm[0][0]\n",
    "FN = cm[1][0]\n",
    "FP = cm[0][1]\n",
    "TP = cm[1][1]\n",
    "\n",
    "FPR = FP/(FP+TN)\n",
    "TPR = TP/(TP+FN)\n",
    "\n",
    "\n",
    "print(cm)\n",
    "cm_display.plot(values_format=',d', xticks_rotation='horizontal')\n",
    "\n",
    "print('False positive rate =', FPR.round(3))\n",
    "print('True positive rate =', TPR.round(3))\n",
    "print('Difference =', (TPR - FPR).round(3))"
   ]
  },
  {
   "cell_type": "markdown",
   "metadata": {},
   "source": [
    "### Data quality - Overall this dataset has relatively few issues to deal with. Less than 10% of the data needed to be imputed, corrected, transformed, or otherwise changed. For this reason, the data is appropriate for modeling the target variable (y). The dataset could be improved though. For example:\n",
    "- Both Job and Education columns have a category labeled \"unknown\". In an ideal data collection process, we would know the true values of these rows\n",
    "- Balance is a bit ambiguous. Does this refer to bank account balance? Credit card balance, etc.?\n",
    "- A few additional variables could also be useful, including: length of customer relationship with the bank, income, etc.\n",
    "\n",
    "### Model quality - With an area under the curve of 0.64, the model is slightly better than random chance. Choosing a low decision threshold can potentially make the model more generalizable and improve recall. Additional feature engineering could lead to a better model (potentially for the Balance variable)\n",
    "\n",
    "### Recommendation:\n",
    "- If the bank has access to a robust call center or other customer marketing operation with reasonable labor costs, this model could be leveraged to identify customers who are most likely to subscribe the bank term deposit product. The bank should run its customer database through this model to identify top customer candidates\n",
    "- If the bank has access to relatively cheap call center labor, the model's decision threshold could be set low in order to target a wider breadth of customers\n",
    "- If the bank's marketing outreach costs are high, the decision threshold could be raised to target less customers\n",
    "- Note: certain demographic variables such as edcuation, age, maritial status, etc. should be used with caution in most predictive models."
   ]
  }
 ],
 "metadata": {
  "kernelspec": {
   "display_name": "base",
   "language": "python",
   "name": "python3"
  },
  "language_info": {
   "codemirror_mode": {
    "name": "ipython",
    "version": 3
   },
   "file_extension": ".py",
   "mimetype": "text/x-python",
   "name": "python",
   "nbconvert_exporter": "python",
   "pygments_lexer": "ipython3",
   "version": "3.10.9"
  },
  "orig_nbformat": 4,
  "vscode": {
   "interpreter": {
    "hash": "3ff09a8cd62c6cc78fde7d0d933d3a19d52a56ed33b00a3e7fc2a2ac26078cee"
   }
  }
 },
 "nbformat": 4,
 "nbformat_minor": 2
}
